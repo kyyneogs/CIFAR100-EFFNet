{
 "cells": [
  {
   "attachments": {},
   "cell_type": "markdown",
   "metadata": {},
   "source": [
    "파이썬 파일에서 경로 오류로 인해 측정이 불가능한 경우, 해당 주피터 노트북으로 평가바랍니다."
   ]
  },
  {
   "cell_type": "code",
   "execution_count": 1,
   "metadata": {},
   "outputs": [
    {
     "name": "stderr",
     "output_type": "stream",
     "text": [
      "c:\\Users\\KS_O_02\\anaconda3\\envs\\tf\\lib\\site-packages\\tensorflow_addons\\utils\\tfa_eol_msg.py:23: UserWarning: \n",
      "\n",
      "TensorFlow Addons (TFA) has ended development and introduction of new features.\n",
      "TFA has entered a minimal maintenance and release mode until a planned end of life in May 2024.\n",
      "Please modify downstream libraries to take dependencies from other repositories in our TensorFlow community (e.g. Keras, Keras-CV, and Keras-NLP). \n",
      "\n",
      "For more information see: https://github.com/tensorflow/addons/issues/2807 \n",
      "\n",
      "  warnings.warn(\n"
     ]
    },
    {
     "name": "stdout",
     "output_type": "stream",
     "text": [
      "Model: \"model\"\n",
      "_________________________________________________________________\n",
      " Layer (type)                Output Shape              Param #   \n",
      "=================================================================\n",
      " sequential (Sequential)     (None, 100)               4177664   \n",
      "                                                                 \n",
      "=================================================================\n",
      "Total params: 4,177,664\n",
      "Trainable params: 4,135,648\n",
      "Non-trainable params: 42,016\n",
      "_________________________________________________________________\n",
      "{'apple': 0, 'aquarium_fish': 1, 'baby': 2, 'bear': 3, 'beaver': 4, 'bed': 5, 'bee': 6, 'beetle': 7, 'bicycle': 8, 'bottle': 9, 'bowl': 10, 'boy': 11, 'bridge': 12, 'bus': 13, 'butterfly': 14, 'camel': 15, 'can': 16, 'castle': 17, 'caterpillar': 18, 'cattle': 19, 'chair': 20, 'chimpanzee': 21, 'clock': 22, 'cloud': 23, 'cockroach': 24, 'couch': 25, 'crab': 26, 'crocodile': 27, 'cup': 28, 'dinosaur': 29, 'dolphin': 30, 'elephant': 31, 'flatfish': 32, 'forest': 33, 'fox': 34, 'girl': 35, 'hamster': 36, 'house': 37, 'kangaroo': 38, 'keyboard': 39, 'lamp': 40, 'lawn_mower': 41, 'leopard': 42, 'lion': 43, 'lizard': 44, 'lobster': 45, 'man': 46, 'maple_tree': 47, 'motorcycle': 48, 'mountain': 49, 'mouse': 50, 'mushroom': 51, 'oak_tree': 52, 'orange': 53, 'orchid': 54, 'otter': 55, 'palm_tree': 56, 'pear': 57, 'pickup_truck': 58, 'pine_tree': 59, 'plain': 60, 'plate': 61, 'poppy': 62, 'porcupine': 63, 'possum': 64, 'rabbit': 65, 'raccoon': 66, 'ray': 67, 'road': 68, 'rocket': 69, 'rose': 70, 'sea': 71, 'seal': 72, 'shark': 73, 'shrew': 74, 'skunk': 75, 'skyscraper': 76, 'snail': 77, 'snake': 78, 'spider': 79, 'squirrel': 80, 'streetcar': 81, 'sunflower': 82, 'sweet_pepper': 83, 'table': 84, 'tank': 85, 'telephone': 86, 'television': 87, 'tiger': 88, 'tractor': 89, 'train': 90, 'trout': 91, 'tulip': 92, 'turtle': 93, 'wardrobe': 94, 'whale': 95, 'willow_tree': 96, 'wolf': 97, 'woman': 98, 'worm': 99}\n",
      "학습용 데이터셋: (50000, 32, 32, 3) (50000,)\n",
      "검증용 데이터셋: (10000, 32, 32, 3) (10000,)\n"
     ]
    },
    {
     "name": "stderr",
     "output_type": "stream",
     "text": [
      "C:\\Users\\KS_O_02\\AppData\\Local\\Temp\\ipykernel_20028\\2976164366.py:47: UserWarning: `Model.evaluate_generator` is deprecated and will be removed in a future version. Please use `Model.evaluate`, which supports generators.\n",
      "  _loss, _acc, _precision, _recall, _f1score = model.evaluate_generator(generator = valid_data_generator, verbose = 1)\n"
     ]
    },
    {
     "name": "stdout",
     "output_type": "stream",
     "text": [
      "78/78 [==============================] - 42s 499ms/step - loss: 0.6482 - accuracy: 0.8162 - precision: 0.8542 - recall: 0.7937 - f1score: 0.8227\n",
      "loss: 0.6482, accuracy: 0.8162, precision: 0.8542, recall: 0.7937, f1score: 0.8227\n"
     ]
    }
   ],
   "source": [
    "import matplotlib.pyplot as plt\n",
    "import tensorflow as tf\n",
    "\n",
    "# 현재 디렉토리의 utils 폴더 안에 위치시켜주세요.\n",
    "# 꼭 classes.txt를 현재 디렉토리에 위치시켜주세요.\n",
    "# tensorflow-addons 와 albumentations가 필요합니다.(모듈 임포트시 필요)\n",
    "from utils.Network import Build_Network\n",
    "from utils.SAM import train_step_sam\n",
    "from utils.load_cifar100 import load_cifar100\n",
    "from utils.Generator import DataGenerator\n",
    "from utils.Metrices import recall, precision, f1score\n",
    "\n",
    "network = Build_Network(100, booster=True)\n",
    "model = tf.keras.Sequential()\n",
    "model.add(network)\n",
    "model.add(tf.keras.layers.GlobalAveragePooling2D())\n",
    "model.add(tf.keras.layers.Dropout(0.2))\n",
    "model.add(tf.keras.layers.Dense(100, activation='softmax'))\n",
    "\n",
    "class MyModel(tf.keras.Model):\n",
    "    def __init__(self,num_classes=100):\n",
    "        super(MyModel, self).__init__(name='model')\n",
    "        self.base=model\n",
    "    def call(self, x):\n",
    "        x = self.base(x)\n",
    "        return x\n",
    "    def train_step(self, data):\n",
    "        return train_step_sam(self, data, rho=0.05)\n",
    "    \n",
    "model = MyModel(model)\n",
    "model.build((None, 112, 112, 3))\n",
    "\n",
    "model.summary()\n",
    "model.load_weights('CIFAR100-weights.h5')\n",
    "\n",
    "model.compile(\n",
    "              optimizer=tf.keras.optimizers.Adam(learning_rate=0.0001),\n",
    "              loss='categorical_crossentropy',\n",
    "              metrics=['accuracy', precision, recall, f1score])\n",
    "\n",
    "(x_train, y_train), (x_test, y_test) = load_cifar100()\n",
    "\n",
    "x_test = x_test.astype('float32') / 255.0\n",
    "y_test = tf.keras.utils.to_categorical(y_test, 100)\n",
    "\n",
    "valid_data_generator = DataGenerator(x_test, y_test, augment=False)\n",
    "_loss, _acc, _precision, _recall, _f1score = model.evaluate_generator(generator = valid_data_generator, verbose = 1)\n",
    "\n",
    "print('loss: {:.4f}, accuracy: {:.4f}, precision: {:.4f}, recall: {:.4f}, f1score: {:.4f}'.format(_loss, _acc, _precision, _recall, _f1score))"
   ]
  }
 ],
 "metadata": {
  "kernelspec": {
   "display_name": "tf",
   "language": "python",
   "name": "python3"
  },
  "language_info": {
   "codemirror_mode": {
    "name": "ipython",
    "version": 3
   },
   "file_extension": ".py",
   "mimetype": "text/x-python",
   "name": "python",
   "nbconvert_exporter": "python",
   "pygments_lexer": "ipython3",
   "version": "3.9.16"
  },
  "orig_nbformat": 4
 },
 "nbformat": 4,
 "nbformat_minor": 2
}
